{
 "cells": [
  {
   "cell_type": "code",
   "execution_count": 2,
   "id": "f53e1e14-4bc5-406d-a77b-f3c4407ffe1d",
   "metadata": {},
   "outputs": [
    {
     "name": "stdin",
     "output_type": "stream",
     "text": [
      " ····································································································································································\n",
      " ·······················\n"
     ]
    }
   ],
   "source": [
    "import getpass\n",
    "import os\n",
    "\n",
    "os.environ[\"OPENAI_API_KEY\"] = getpass.getpass()\n",
    "os.environ[\"LANGCHAIN_PROJECT\"] = getpass.getpass()"
   ]
  },
  {
   "cell_type": "code",
   "execution_count": 3,
   "id": "da39ef9c-9d2c-4cdf-aa5d-24cfa6b89156",
   "metadata": {},
   "outputs": [
    {
     "name": "stdout",
     "output_type": "stream",
     "text": [
      "\n",
      "\n",
      "|Spark|ling| water|,| oh| so| clear\n",
      "|Bubbles dancing|,| without| fear|\n",
      "|Refreshing| taste,| a| pure| delight|\n",
      "|Spark|ling| water|,| my| thirst|'s| delight||"
     ]
    }
   ],
   "source": [
    "from langchain_openai import OpenAI\n",
    "\n",
    "llm = OpenAI(model=\"gpt-3.5-turbo-instruct\", temperature=0, max_tokens=512)\n",
    "for chunk in llm.stream(\"Write me a 1 verse song about sparkling water.\"):\n",
    "    print(chunk, end=\"|\", flush=True)"
   ]
  },
  {
   "cell_type": "code",
   "execution_count": 4,
   "id": "27c91ecc-d3ae-4302-88e3-236598830595",
   "metadata": {},
   "outputs": [
    {
     "name": "stdout",
     "output_type": "stream",
     "text": [
      "\n",
      "\n",
      "|Spark|ling| water|,| oh| so| clear\n",
      "|Bubbles dancing|,| without| fear|\n",
      "|Refreshing| taste,| a| pure| delight|\n",
      "|Spark|ling| water|,| my| thirst|'s| delight||"
     ]
    }
   ],
   "source": [
    "from langchain_openai import OpenAI\n",
    "\n",
    "llm = OpenAI(model=\"gpt-3.5-turbo-instruct\", temperature=0, max_tokens=512)\n",
    "async for chunk in llm.astream(\"Write me a 1 verse song about sparkling water.\"):\n",
    "    print(chunk, end=\"|\", flush=True)"
   ]
  },
  {
   "cell_type": "code",
   "execution_count": 5,
   "id": "af562f26-42f5-4d03-8343-f9c5203ce94b",
   "metadata": {},
   "outputs": [
    {
     "name": "stdout",
     "output_type": "stream",
     "text": [
      "{'event': 'on_llm_start', 'run_id': '12f75fe8-87a7-43b0-bce4-ae7c50bd8091', 'name': 'OpenAI', 'tags': [], 'metadata': {}, 'data': {'input': 'Write me a 1 verse song about goldfish on the moon'}, 'parent_ids': []}\n",
      "{'event': 'on_llm_stream', 'run_id': '12f75fe8-87a7-43b0-bce4-ae7c50bd8091', 'tags': [], 'metadata': {}, 'name': 'OpenAI', 'data': {'chunk': '\\n\\n'}, 'parent_ids': []}\n",
      "{'event': 'on_llm_stream', 'run_id': '12f75fe8-87a7-43b0-bce4-ae7c50bd8091', 'tags': [], 'metadata': {}, 'name': 'OpenAI', 'data': {'chunk': 'Sw'}, 'parent_ids': []}\n",
      "{'event': 'on_llm_stream', 'run_id': '12f75fe8-87a7-43b0-bce4-ae7c50bd8091', 'tags': [], 'metadata': {}, 'name': 'OpenAI', 'data': {'chunk': 'imming'}, 'parent_ids': []}\n",
      "...Truncated\n"
     ]
    }
   ],
   "source": [
    "from langchain_openai import OpenAI\n",
    "\n",
    "llm = OpenAI(model=\"gpt-3.5-turbo-instruct\", temperature=0, max_tokens=512)\n",
    "idx = 0\n",
    "\n",
    "async for event in llm.astream_events(\n",
    "    \"Write me a 1 verse song about goldfish on the moon\", version=\"v1\"\n",
    "):\n",
    "    idx += 1\n",
    "    if idx >= 5:  # Truncate the output\n",
    "        print(\"...Truncated\")\n",
    "        break\n",
    "    print(event)"
   ]
  }
 ],
 "metadata": {
  "kernelspec": {
   "display_name": "langchain",
   "language": "python",
   "name": "langchain"
  },
  "language_info": {
   "codemirror_mode": {
    "name": "ipython",
    "version": 3
   },
   "file_extension": ".py",
   "mimetype": "text/x-python",
   "name": "python",
   "nbconvert_exporter": "python",
   "pygments_lexer": "ipython3",
   "version": "3.9.7"
  }
 },
 "nbformat": 4,
 "nbformat_minor": 5
}
